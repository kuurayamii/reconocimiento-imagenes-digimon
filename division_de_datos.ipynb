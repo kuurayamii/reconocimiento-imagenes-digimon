{
 "cells": [
  {
   "cell_type": "code",
   "execution_count": null,
   "metadata": {},
   "outputs": [],
   "source": [
    "import tensorflow\n",
    "from tensorflow.keras.preprocessing.image import ImageDataGenerator\n",
    "from matplotlib import pyplot as plt\n",
    "import os\n",
    "import numpy as np\n",
    "\n",
    "def aumento_imagenes(array_imagenes, n, plotear = False):\n",
    "  array_imagenes = np.expand_dims(array_imagenes, axis=0)\n",
    "\n",
    "  datagen = ImageDataGenerator(\n",
    "      rotation_range=40,\n",
    "      width_shift_range=0.2,\n",
    "      height_shift_range=0.2,\n",
    "      shear_range=0.2,\n",
    "      zoom_range=0.2,\n",
    "      horizontal_flip=True,\n",
    "      fill_mode='nearest'\n",
    "  )\n",
    "\n",
    "  i = 0\n",
    "  imagenes = []\n",
    "  for batch in datagen.flow(array_imagenes, batch_size=1):\n",
    "    if plotear:\n",
    "      plt.figure(i)\n",
    "      plt.imshow(batch[0])\n",
    "    imagenes.append(batch[0])\n",
    "    i += 1\n",
    "    if i > n:\n",
    "      break\n",
    "  if plotear:\n",
    "    plt.show()\n",
    "  return imagenes"
   ]
  },
  {
   "cell_type": "code",
   "execution_count": null,
   "metadata": {},
   "outputs": [],
   "source": [
    "from PIL import Image\n",
    "\n",
    "extensiones_comunes = ('.jpg', '.jpeg', '.png', '.gif')\n",
    "\n",
    "ruta_carpeta_imagenes = '/content/drive/MyDrive/FotosConvertidasML'\n",
    "\n",
    "lista_imagenes = []\n",
    "\n",
    "etiquetas = []\n",
    "\n",
    "valor_imagen = -1\n",
    "\n",
    "for nombre_archivo in os.listdir(ruta_carpeta_imagenes):\n",
    "  if 'gatomon' in nombre_archivo:\n",
    "    etiquetas.append(0)\n",
    "    valor_imagen = 0\n",
    "  elif 'wizardmon' in nombre_archivo:\n",
    "    etiquetas.append(1)\n",
    "    valor_imagen = 1\n",
    "  elif 'Galgomon' in nombre_archivo:\n",
    "    etiquetas.append(2)\n",
    "    valor_imagen = 2\n",
    "  elif 'Lopmon' in nombre_archivo:\n",
    "    etiquetas.append(3)\n",
    "    valor_imagen = 3\n",
    "  elif 'Terriermon' in nombre_archivo:\n",
    "    etiquetas.append(4)\n",
    "    valor_imagen = 4\n",
    "  if nombre_archivo.endswith(extensiones_comunes):\n",
    "    ruta_imagen = os.path.join(ruta_carpeta_imagenes, nombre_archivo)\n",
    "    imagen = Image.open(ruta_imagen)\n",
    "    imagen = imagen.resize((224, 224))\n",
    "    imagen_array = np.array(imagen) / 255.0\n",
    "    lista_imagenes.append(imagen_array)\n",
    "    aumentadas = aumento_imagenes(imagen_array, 10, False)\n",
    "    lista_imagenes.extend(aumentadas)\n",
    "    for imagen_aumentada in range (len(aumentadas)):\n",
    "      etiquetas.append(valor_imagen)"
   ]
  },
  {
   "cell_type": "code",
   "execution_count": null,
   "metadata": {},
   "outputs": [],
   "source": [
    "from sklearn.model_selection import train_test_split\n",
    "\n",
    "X_train, X_test, y_train, y_test = train_test_split(\n",
    "    lista_imagenes,\n",
    "    etiquetas,\n",
    "    test_size = 0.3,\n",
    "    random_state = 82,\n",
    "    stratify = etiquetas\n",
    ")"
   ]
  },
  {
   "cell_type": "code",
   "execution_count": null,
   "metadata": {},
   "outputs": [],
   "source": [
    "os.makedirs('dataset', exist_ok=True)\n",
    "os.makedirs('dataset/train', exist_ok=True)\n",
    "os.makedirs('dataset/test', exist_ok=True)\n",
    "\n",
    "np.save('dataset/train/X_train.npy', X_train)\n",
    "np.save('dataset/train/y_train.npy', y_train)\n",
    "np.save('dataset/test/X_test.npy', X_test)\n",
    "np.save('dataset/test/y_test.npy', y_test)"
   ]
  }
 ],
 "metadata": {
  "kernelspec": {
   "display_name": "env",
   "language": "python",
   "name": "python3"
  },
  "language_info": {
   "name": "python",
   "version": "3.12.5"
  }
 },
 "nbformat": 4,
 "nbformat_minor": 2
}
